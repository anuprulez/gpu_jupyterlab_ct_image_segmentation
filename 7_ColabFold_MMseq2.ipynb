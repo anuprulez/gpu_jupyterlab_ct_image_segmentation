{
 "cells": [
  {
   "cell_type": "markdown",
   "id": "d1af9533-eb1b-4892-bc7e-f0dd35d037e7",
   "metadata": {},
   "source": [
    "# Predict protein structure using ColabFold running on Jupyterlab notebook\n",
    "\n",
    "### The notebook has been adapted from: https://colab.research.google.com/github/sokrypton/ColabFold/blob/main/AlphaFold2.ipynb"
   ]
  },
  {
   "cell_type": "code",
   "execution_count": 1,
   "id": "7a27794e-5ad2-43af-b338-07372fd38d05",
   "metadata": {},
   "outputs": [
    {
     "data": {
      "text/plain": [
       "([PhysicalDevice(name='/physical_device:GPU:0', device_type='GPU')], '2.7.0')"
      ]
     },
     "execution_count": 1,
     "metadata": {},
     "output_type": "execute_result"
    }
   ],
   "source": [
    "import tensorflow as tf\n",
    "gpu = tf.config.list_physical_devices('GPU')\n",
    "gpu, tf.__version__"
   ]
  },
  {
   "cell_type": "markdown",
   "id": "4a66ad8c-8d42-47f3-9d93-4bd446f045db",
   "metadata": {},
   "source": [
    "## Specify protein sequence and ColabFold parameters"
   ]
  },
  {
   "cell_type": "code",
   "execution_count": 2,
   "id": "bd26a8b6-891b-4c92-8e11-cff5d98eca84",
   "metadata": {},
   "outputs": [],
   "source": [
    "import os.path\n",
    "import re\n",
    "import hashlib\n",
    "import random\n",
    "\n",
    "\n",
    "def add_hash(x,y):\n",
    "  return x+\"_\"+hashlib.sha1(y.encode()).hexdigest()[:5]\n",
    "\n",
    "query_sequence = 'PIAQIHILEGRSDEQKETLIREVSEAISRSLDAPLTSVRVIITEMAKGHFGIGGELASK'\n",
    "\n",
    "# SARS-CoV-2 spike protein sequence\n",
    "#query_sequence = \"MFGFFVLLPLVSSQCVNLTTRTQLPPAYTNSFTRGVYYPDKVFRSSVLHSTQDLFLPFFSNVTWFHAIHVSGTNGTKRFDNPVLPFNDGVYFASTEKSNIIRGWIFGTTLDSKTQSLLIVNNATNVVIKVCEFQFCNDPFLGVYYHKNNKSWMESEFRVYSSANNCTFEYVSKPFLMDLEGKQGNFKNLREFVFKNIDGYFKIYSKHTPINLVRDLPQGFSALEPLVDLPIGINITRFQTLLALHRSYLTPGDSSSGWTAGAAAYYVGYLQPRTFLLKYNENGTITDAVDCALDPLSETKCT\"\n",
    "#query_sequence = \"MFVFLVLLPLVSSQCVNLTTRTQLPPAYTNSFTRGVYYPDKVFRSSVLHSTQDLFLPFFSNVTWFHAIHVSGTNGTKRFDNPVLPFNDGVYFASTEKSNIIRGWIFGTTLDSKTQSLLIVNNATNVVIKVCEFQFCNYPFLGVYYHKNNKSWMESEFRVYSSANNCTFEYVSQPFLMDLEGKQGNFKNLREFVFKNIDGYFKIYSKHTPINLVRDLPQGFSALEPLVDLPIGINITRFQTLLALHRSYLTPGDSSSGWTAGAAAYYVGYLQPRTFLLKYNENGTITDAVDCALDPLSETKCTLKSFTVEKGIYQTSNFRVQPTESIVRFPNITNLCPFGEVFNATRFASVYAWNRKRISNCVADYSVLYNSASFSTFKCYGVSPTKLNDLCFTNVYADSFVIRGDEVRQIAPGQTGKIADYNYKLPDDFTGCVIAWNSNNLDSKVGGNYNYLYRLFRKSNLKPFERDISTEIYQAGNTPCNGVEGFNCYFPLQSYGFQPTNGVGYQPYRVVVLSFELLHAPSTVCGPKKSTNLVKNKCVNFNFNGLTGTGVLTESNKKFLPFQQFGRDIADTTDAVRDPQTLEILDITPCSFGGVSVITPGTNTSNQVAVLYQGVNCTEVPVAIHADQLTPTWRVYSTGSNVFQTRAGCLIGAEHVNNSYECDIPIGAGICASYQTQTNSHRRARSVASQSIIAYTMSLGAENSVAYSNNSIAIPINFTISVTTEILPVSMTKTSVDCTMYICGDSTECSNLLLQYGSFCTQLNRALTGIAVEQDKNTQEVFAQVKQIYKTPPIKDFGGFNFSQILPDPSKPSKRSFIEDLLFNKVTLADAGFIKQYGDCLGDISARDLICAQKFNGLTVLPPLLTDEMIAQYTSALLAGTITSGWTFGAGAALQIPFAMQMAYRFNGIGVTQNVLYENQKLIANQFNSAIGKIQDSLSSTASALGKLQDVVNQNAQALNTLVKQLSSNFGAISSVLNDILSRLDKVEAEVQIDRLITGRLQSLQTYVTQQLIRAAEIRASANLAATKMSECVLGQSKRVDFCGKGYHLMSFPQSAPHGVVFLHVTYVPAQEKNFTTAPAICHDGKAHFPREGVFVSNGTHWFVTQRNFYEPQIITTDNTFVSGNCDVVIGIVNNTVYDPLQPELDSFKEELDKYFKNHTSPDVDLGDISGINASVVNIQKEIDRLNEVAKNLNESLIDLQQLGKYEQYIKWPWYIWLGFIAGLIAIVMVTIMLCCMTSCCSCLKGCCSCGSCCKFDEDDSEPVLKGVKLHYT\"\n",
    "\n",
    "# remove whitespaces\n",
    "query_sequence = \"\".join(query_sequence.split())\n",
    "results_dir = \"colab_results/\"\n",
    "jobname = 'test'\n",
    "\n",
    "if not os.path.isdir(results_dir):\n",
    "    os.mkdir(results_dir)\n",
    "\n",
    "# remove whitespaces\n",
    "basejobname = \"\".join(jobname.split())\n",
    "basejobname = re.sub(r'\\W+', '', basejobname)\n",
    "jobname = add_hash(basejobname, query_sequence)\n",
    "while os.path.isfile(f\"{results_dir}{jobname}.csv\"):\n",
    "  jobname = add_hash(basejobname, ''.join(random.sample(query_sequence,len(query_sequence))))\n",
    "\n",
    "# create a tabular file with the query sequence\n",
    "with open(f\"{results_dir}{jobname}.csv\", \"w\") as text_file:\n",
    "    text_file.write(f\"id,sequence\\n{jobname},{query_sequence}\")\n",
    "\n",
    "queries_path = f\"{results_dir}{jobname}.csv\"\n",
    "\n",
    "## Amber refinement\n",
    "use_amber = False # {type:\"boolean\"}\n",
    "#Options for template_mode - \"none\" = no template information is used and \"pdb70\" = detect templates in pdb70\n",
    "template_mode = \"pdb70\" # [\"none\", \"pdb70\"]\n",
    "\n",
    "if template_mode == \"pdb70\":\n",
    "  use_templates = True\n",
    "else:\n",
    "  use_templates = False\n",
    "\n",
    "\n",
    "### MSA options (custom MSA upload, single sequence, pairing mode)\n",
    "#Options for msa_mode [\"MMseqs2 (UniRef+Environmental)\", \"MMseqs2 (UniRef only)\",\"single_sequence\"]\n",
    "msa_mode = \"MMseqs2 (UniRef only)\" #\"MMseqs2 (UniRef+Environmental)\"\n",
    "#Options for pair_mode - \"unpaired+paired\" = pair sequences from same species + unpaired MSA, \"unpaired\" = seperate MSA for each chain, \"paired\" - only use paired sequences.\n",
    "pair_mode = \"unpaired+paired\" # [\"unpaired+paired\",\"paired\",\"unpaired\"] {type:\"string\"}\n",
    "\n",
    "# decide which a3m to use\n",
    "if msa_mode.startswith(\"MMseqs2\"):\n",
    "  a3m_file = f\"{results_dir}{jobname}.a3m\"\n",
    "else:\n",
    "  a3m_file = f\"{results_dir}{jobname}.single_sequence.a3m\"\n",
    "  with open(a3m_file, \"w\") as text_file:\n",
    "    text_file.write(\">1\\n%s\" % query_sequence)\n",
    "\n",
    "\n",
    "### Advanced settings\n",
    "#Options for model_type: \"auto\" = protein structure prediction using \"AlphaFold2-ptm\" and complex prediction \"AlphaFold-multimer-v2\". For complexes \"AlphaFold-multimer-v[1,2]\" and \"AlphaFold-ptm\" can be used.\n",
    "model_type = \"auto\" # [\"auto\", \"AlphaFold2-ptm\", \"AlphaFold2-multimer-v1\", \"AlphaFold2-multimer-v2\"]\n",
    "num_recycles = 3 # [1,3,6,12,24,48]"
   ]
  },
  {
   "cell_type": "markdown",
   "id": "a638d0bb-08fc-4cde-9aa9-d477a013f8e7",
   "metadata": {},
   "source": [
    "## Download AlphaFold2 weights and run prediction"
   ]
  },
  {
   "cell_type": "code",
   "execution_count": null,
   "id": "47367e13-8c00-489f-bb70-8573ae2edbce",
   "metadata": {},
   "outputs": [
    {
     "name": "stderr",
     "output_type": "stream",
     "text": [
      "Downloading alphafold2 weights to colab_results: 100%|█████████████████████████████████████████████████████████████████████████████████████████████████████████████████| 3.47G/3.47G [00:39<00:00, 95.0MB/s]\n"
     ]
    },
    {
     "name": "stdout",
     "output_type": "stream",
     "text": [
      "2022-04-07 10:28:29,956 Running colabfold 1.2.0 (0a7b11137dda693263f2eebd8c83f7b91af301f0)\n",
      "2022-04-07 10:28:29,959 Found 6 citations for tools or databases\n",
      "2022-04-07 10:28:38,415 Query 1/1: test_a5e17 (length 59)\n"
     ]
    },
    {
     "name": "stderr",
     "output_type": "stream",
     "text": [
      "COMPLETE: 100%|██████████████████████████████████████████████████████████████████████████████████████████████████████████████████████████████████████████████████| 150/150 [elapsed: 00:12 remaining: 00:00]\n"
     ]
    },
    {
     "name": "stdout",
     "output_type": "stream",
     "text": [
      "2022-04-07 10:29:01,839 Sequence 0 found templates: [b'2op8_A' b'2opa_A' b'6bgn_J' b'4faz_C' b'6ogm_D' b'6ogm_J' b'3ry0_A'\n",
      " b'3ry0_B' b'2x4k_A' b'4fdx_A' b'4fdx_B' b'3ej3_B' b'3ej3_L' b'3ej9_D'\n",
      " b'3mb2_A' b'2orm_A' b'2orm_C' b'3m21_C' b'3m20_A' b'3m20_C']\n",
      "2022-04-07 10:29:01,996 Running model_1\n"
     ]
    }
   ],
   "source": [
    "# Run Prediction\n",
    "\n",
    "import sys\n",
    "import colabfold\n",
    "from colabfold.download import download_alphafold_params, default_data_dir\n",
    "from colabfold.utils import setup_logging\n",
    "from colabfold.batch import get_queries, run\n",
    "from colabfold.colabfold import plot_protein\n",
    "from pathlib import Path\n",
    "import matplotlib.pyplot as plt\n",
    "\n",
    "\n",
    "def prediction_callback(unrelaxed_protein, length, prediction_result, input_features):\n",
    "  fig = plot_protein(unrelaxed_protein, Ls=length, dpi=100)\n",
    "  plt.show()\n",
    "  plt.close()\n",
    "\n",
    "result_dir = \"colab_results/\"\n",
    "\n",
    "# logging\n",
    "setup_logging(Path(results_dir).joinpath(\"log.txt\"))\n",
    "\n",
    "queries, is_complex = get_queries(queries_path)\n",
    "\n",
    "path_dir = Path(results_dir)\n",
    "\n",
    "# download AlphaFold2 weights\n",
    "download_alphafold_params(model_type, path_dir)\n",
    "\n",
    "# execute prediction\n",
    "run(\n",
    "    queries=queries,\n",
    "    result_dir=result_dir,\n",
    "    use_templates=use_templates,\n",
    "    use_amber=use_amber,\n",
    "    msa_mode=msa_mode,\n",
    "    num_models=1,\n",
    "    num_recycles=num_recycles,\n",
    "    model_order=[1, 2, 3, 4, 5],\n",
    "    is_complex=is_complex,\n",
    "    data_dir=path_dir,\n",
    "    keep_existing_results=False,\n",
    "    recompile_padding=1.0,\n",
    "    pair_mode=pair_mode,\n",
    "    stop_at_score=float(100),\n",
    "    prediction_callback=prediction_callback,\n",
    ")"
   ]
  },
  {
   "cell_type": "markdown",
   "id": "101dac83-883c-446b-ab89-d5079462745f",
   "metadata": {},
   "source": [
    "## Display 3D structure"
   ]
  },
  {
   "cell_type": "code",
   "execution_count": null,
   "id": "359d0b5e-1b1e-4556-85fb-c875a2fb982c",
   "metadata": {},
   "outputs": [],
   "source": [
    "import py3Dmol\n",
    "import glob\n",
    "import matplotlib.pyplot as plt\n",
    "\n",
    "# set different plotting parameters\n",
    "rank_num = 1 # [\"1\", \"2\", \"3\", \"4\", \"5\"] {type:\"raw\"}\n",
    "color = \"lDDT\" # [\"chain\", \"lDDT\", \"rainbow\"]\n",
    "show_sidechains = True\n",
    "show_mainchains = True\n",
    "\n",
    "jobname_prefix = \".custom\" if msa_mode == \"custom\" else \"\"\n",
    "\n",
    "if use_amber:\n",
    "  pdb_filename = f\"{results_dir}{jobname}{jobname_prefix}_relaxed_rank_{rank_num}_model_*.pdb\"\n",
    "else:\n",
    "  pdb_filename = f\"{results_dir}{jobname}{jobname_prefix}_unrelaxed_rank_{rank_num}_model_*.pdb\"\n",
    "\n",
    "pdb_file = glob.glob(pdb_filename)\n",
    "\n",
    "def show_pdb(rank_num=1, show_sidechains=False, show_mainchains=False, color=\"lDDT\"):\n",
    "  model_name = f\"rank_{rank_num}\"\n",
    "  view = py3Dmol.view(js='https://3dmol.org/build/3Dmol.js',)\n",
    "  view.addModel(open(pdb_file[0],'r').read(),'pdb')\n",
    "\n",
    "  if color == \"lDDT\":\n",
    "    view.setStyle({'cartoon': {'colorscheme': {'prop':'b','gradient': 'roygb','min':50,'max':90}}})\n",
    "  elif color == \"rainbow\":\n",
    "    view.setStyle({'cartoon': {'color':'spectrum'}})\n",
    "  elif color == \"chain\":\n",
    "    chains = len(queries[0][1]) + 1 if is_complex else 1\n",
    "    for n,chain,color in zip(range(chains),list(\"ABCDEFGH\"),\n",
    "                     [\"lime\",\"cyan\",\"magenta\",\"yellow\",\"salmon\",\"white\",\"blue\",\"orange\"]):\n",
    "      view.setStyle({'chain':chain},{'cartoon': {'color':color}})\n",
    "  if show_sidechains:\n",
    "    BB = ['C','O','N']\n",
    "    view.addStyle({'and':[{'resn':[\"GLY\",\"PRO\"],'invert':True},{'atom':BB,'invert':True}]},\n",
    "                        {'stick':{'colorscheme':f\"WhiteCarbon\",'radius':0.3}})\n",
    "    view.addStyle({'and':[{'resn':\"GLY\"},{'atom':'CA'}]},\n",
    "                        {'sphere':{'colorscheme':f\"WhiteCarbon\",'radius':0.3}})\n",
    "    view.addStyle({'and':[{'resn':\"PRO\"},{'atom':['C','O'],'invert':True}]},\n",
    "                        {'stick':{'colorscheme':f\"WhiteCarbon\",'radius':0.3}})  \n",
    "  if show_mainchains:\n",
    "    BB = ['C','O','N','CA']\n",
    "    view.addStyle({'atom':BB},{'stick':{'colorscheme':f\"WhiteCarbon\",'radius':0.3}})\n",
    "\n",
    "  view.zoomTo()\n",
    "  return view\n",
    "\n",
    "\n",
    "show_pdb(rank_num,show_sidechains, show_mainchains, color).show()"
   ]
  },
  {
   "cell_type": "markdown",
   "id": "2065f2c9-647c-4dda-ac16-78160ef03e0a",
   "metadata": {},
   "source": [
    "## Plots"
   ]
  },
  {
   "cell_type": "code",
   "execution_count": null,
   "id": "89867b48-a1e0-4c54-9c35-8dec81f568e2",
   "metadata": {},
   "outputs": [],
   "source": [
    "#Plots {run: \"auto\"}\n",
    "from IPython.display import display, HTML\n",
    "import base64\n",
    "from html import escape\n",
    "\n",
    "# see: https://stackoverflow.com/a/53688522\n",
    "def image_to_data_url(filename):\n",
    "  ext = filename.split('.')[-1]\n",
    "  prefix = f'data:image/{ext};base64,'\n",
    "  with open(filename, 'rb') as f:\n",
    "    img = f.read()\n",
    "  return prefix + base64.b64encode(img).decode('utf-8')\n",
    "\n",
    "pae = image_to_data_url(f\"{results_dir}{jobname}{jobname_prefix}_PAE.png\")\n",
    "cov = image_to_data_url(f\"{results_dir}{jobname}{jobname_prefix}_coverage.png\")\n",
    "plddt = image_to_data_url(f\"{results_dir}{jobname}{jobname_prefix}_plddt.png\")\n",
    "display(HTML(f\"\"\"\n",
    "<style>\n",
    "  img {{\n",
    "    float:left;\n",
    "  }}\n",
    "  .full {{\n",
    "    max-width:100%;\n",
    "  }}\n",
    "  .half {{\n",
    "    max-width:50%;\n",
    "  }}\n",
    "  @media (max-width:640px) {{\n",
    "    .half {{\n",
    "      max-width:100%;\n",
    "    }}\n",
    "  }}\n",
    "</style>\n",
    "<div style=\"max-width:90%; padding:2em;\">\n",
    "  <h1>Plots for {escape(jobname)}</h1>\n",
    "  <img src=\"{pae}\" class=\"full\" />\n",
    "  <img src=\"{cov}\" class=\"half\" />\n",
    "  <img src=\"{plddt}\" class=\"half\" />\n",
    "</div>\n",
    "\"\"\"))\n"
   ]
  },
  {
   "cell_type": "code",
   "execution_count": null,
   "id": "4f27c3cb-048f-4543-b7a8-ec80309c6556",
   "metadata": {},
   "outputs": [],
   "source": [
    "# Release GPU memory\n",
    "gpu = tf.config.list_physical_devices('GPU')\n",
    "if len(gpu) > 0:\n",
    "    from numba import cuda\n",
    "    cuda.select_device(0)\n",
    "    cuda.close()"
   ]
  },
  {
   "cell_type": "code",
   "execution_count": null,
   "id": "69bcfd9a-bd4e-4a35-ab42-50495c2ca9c3",
   "metadata": {},
   "outputs": [],
   "source": []
  }
 ],
 "metadata": {
  "kernelspec": {
   "display_name": "Python 3 (ipykernel)",
   "language": "python",
   "name": "python3"
  },
  "language_info": {
   "codemirror_mode": {
    "name": "ipython",
    "version": 3
   },
   "file_extension": ".py",
   "mimetype": "text/x-python",
   "name": "python",
   "nbconvert_exporter": "python",
   "pygments_lexer": "ipython3",
   "version": "3.9.7"
  },
  "toc-autonumbering": true
 },
 "nbformat": 4,
 "nbformat_minor": 5
}
