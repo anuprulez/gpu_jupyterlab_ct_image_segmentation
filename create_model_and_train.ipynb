{
 "cells": [
  {
   "cell_type": "code",
   "execution_count": 1,
   "id": "079489b9-1eac-4dfc-891a-8aa7fa8b0bde",
   "metadata": {},
   "outputs": [],
   "source": [
    "import os\n",
    "import sys\n",
    "import  time\n",
    "import random\n",
    "from itertools import chain\n",
    "import numpy as np\n",
    "from tqdm import tqdm\n",
    "from PIL import Image\n",
    "import matplotlib.pyplot as plt\n",
    "plt.style.use(\"ggplot\")\n",
    "\n",
    "import tensorflow as tf\n",
    "from tensorflow.keras import backend as K\n",
    "from tensorflow.keras.layers import Input\n",
    "from tensorflow.keras.callbacks import EarlyStopping, ModelCheckpoint, ReduceLROnPlateau\n",
    "from tensorflow.keras.optimizers import Adam\n",
    "from tensorflow.keras.losses import binary_crossentropy\n",
    "from tensorflow.keras.models import Model\n",
    "from tensorflow.keras.layers import BatchNormalization, Activation, Dropout, Dense\n",
    "from tensorflow.keras.layers import Conv2D, Conv2DTranspose\n",
    "from tensorflow.keras.layers import MaxPooling2D\n",
    "from tensorflow.keras.layers import concatenate\n",
    "from tensorflow.keras.metrics import Recall, Precision\n",
    "\n",
    "from skimage.io import imread\n",
    "from skimage.transform import resize\n",
    "from sklearn.model_selection import train_test_split\n",
    "from skimage.io import imread, imshow\n",
    "\n",
    "import h5py"
   ]
  },
  {
   "cell_type": "code",
   "execution_count": 2,
   "id": "64719a2d-7339-46d6-996a-3bc25b7292ad",
   "metadata": {},
   "outputs": [],
   "source": [
    "################## TV-Unet\n",
    "im_width = 128\n",
    "im_height = 128\n",
    "EpoachesNo = 10\n",
    "BatcheSZE = 32\n",
    "num_class = 2\n",
    "\n",
    "def conv2d_block(input_tensor, n_filters, kernel_size = 3, batchnorm = True):\n",
    "    \"\"\"Function to add 2 convolutional layers with the parameters passed to it\"\"\"\n",
    "    # first layer\n",
    "    x = Conv2D(filters = n_filters, kernel_size = (kernel_size, kernel_size),\\\n",
    "              kernel_initializer = 'he_normal', padding = 'same')(input_tensor)\n",
    "    if batchnorm:\n",
    "        x = BatchNormalization()(x)\n",
    "    x = Activation('relu')(x)\n",
    "    \n",
    "    # second layer\n",
    "    x = Conv2D(filters = n_filters, kernel_size = (kernel_size, kernel_size),\\\n",
    "              kernel_initializer = 'he_normal', padding = 'same')(x)\n",
    "    if batchnorm:\n",
    "        x = BatchNormalization()(x)\n",
    "    x = Activation('relu')(x)\n",
    "    return x\n",
    "\n",
    "\n",
    "def get_unet(input_img, n_filters = 64, dropout = 0.2, batchnorm = True):\n",
    "    \"\"\"Function to define the UNET Model\"\"\"\n",
    "    # Contracting Path\n",
    "    c1 = conv2d_block(input_img, n_filters * 1, kernel_size = 3, batchnorm = batchnorm)\n",
    "    p1 = MaxPooling2D((2, 2))(c1)\n",
    "    p1 = Dropout(dropout)(p1)\n",
    "    \n",
    "    c2 = conv2d_block(p1, n_filters * 2, kernel_size = 3, batchnorm = batchnorm)\n",
    "    p2 = MaxPooling2D((2, 2))(c2)\n",
    "    p2 = Dropout(dropout)(p2)\n",
    "    \n",
    "    c3 = conv2d_block(p2, n_filters * 4, kernel_size = 3, batchnorm = batchnorm)\n",
    "    p3 = MaxPooling2D((2, 2))(c3)\n",
    "    p3 = Dropout(dropout)(p3)\n",
    "    \n",
    "    c4 = conv2d_block(p3, n_filters * 8, kernel_size = 3, batchnorm = batchnorm)\n",
    "    p4 = MaxPooling2D((2, 2))(c4)\n",
    "    p4 = Dropout(dropout)(p4)\n",
    "    \n",
    "    c5 = conv2d_block(p4, n_filters = n_filters * 16, kernel_size = 3, batchnorm = batchnorm)\n",
    "    \n",
    "    # Expansive Path\n",
    "    u6 = Conv2DTranspose(n_filters * 8, (3, 3), strides = (2, 2), padding = 'same')(c5)\n",
    "    u6 = concatenate([u6, c4])\n",
    "    u6 = Dropout(dropout)(u6)\n",
    "    c6 = conv2d_block(u6, n_filters * 8, kernel_size = 3, batchnorm = batchnorm)\n",
    "    \n",
    "    u7 = Conv2DTranspose(n_filters * 4, (3, 3), strides = (2, 2), padding = 'same')(c6)\n",
    "    u7 = concatenate([u7, c3])\n",
    "    u7 = Dropout(dropout)(u7)\n",
    "    c7 = conv2d_block(u7, n_filters * 4, kernel_size = 3, batchnorm = batchnorm)\n",
    "    \n",
    "    u8 = Conv2DTranspose(n_filters * 2, (3, 3), strides = (2, 2), padding = 'same')(c7)\n",
    "    u8 = concatenate([u8, c2])\n",
    "    u8 = Dropout(dropout)(u8)\n",
    "    c8 = conv2d_block(u8, n_filters * 2, kernel_size = 3, batchnorm = batchnorm)\n",
    "    \n",
    "    u9 = Conv2DTranspose(n_filters * 1, (3, 3), strides = (2, 2), padding = 'same')(c8)\n",
    "    u9 = concatenate([u9, c1])\n",
    "    u9 = Dropout(dropout)(u9)\n",
    "    c9 = conv2d_block(u9, n_filters * 1, kernel_size = 3, batchnorm = batchnorm)\n",
    "    \n",
    "    outputs = Conv2D(num_class, (1, 1), activation='sigmoid')(c9)\n",
    "    model = Model(inputs=[input_img], outputs=[outputs])\n",
    "    return model\n",
    "\n",
    "\n",
    "def TV_bin_loss(y_true, y_pred):\n",
    "    y_true_f = K.flatten(y_true)\n",
    "    y_pred_f = K.flatten(y_pred)\n",
    "\n",
    "    bin_loss = binary_crossentropy(y_true_f,y_pred_f )\n",
    "    \n",
    "    images = y_pred[:,:,:,1]\n",
    "    value = tf.reduce_mean(tf.abs(images[:,1:,:] - images[:,:-1,:])) + tf.reduce_mean(tf.abs(images[:,:,1:] - images[:,:,:-1]))\n",
    "\n",
    "    return 2.4e-7*value + bin_loss\n",
    "\n",
    "\n",
    "def dice_coef(y_pred, y_true):\n",
    "    \n",
    "    y_true_f = K.flatten(y_true)\n",
    "    y_pred_f = K.flatten(y_pred)\n",
    "    intersection = K.sum(y_true_f * y_pred_f)\n",
    "    return (2. * intersection + 0.0001) / (K.sum(y_true_f) + K.sum(y_pred_f) + 0.0001)\n",
    "\n",
    "\n",
    "def dice_loss(y_true, y_pred):\n",
    "    return 1 - dice_coef(y_true, y_pred)\n",
    "\n",
    "def custom_loss(y_true, y_pred):\n",
    "    layer_names=[layer.name for layer in model.layers]\n",
    "    for l in layer_names:\n",
    "        if l==layer_names[-1]:\n",
    "            value = TV_bin_loss(y_true, y_pred)\n",
    "        else:\n",
    "            value = binary_crossentropy(K.flatten(y_true),K.flatten(y_pred))\n",
    "    return value"
   ]
  },
  {
   "cell_type": "code",
   "execution_count": 3,
   "id": "67d72c01-7c5d-43eb-a72b-19a537a395cc",
   "metadata": {},
   "outputs": [],
   "source": [
    "combined_data = h5py.File(\"h5_datasets/combined_CT_datasets.h5\", \"r\")\n",
    "\n",
    "X_train = np.array(combined_data[\"X_train\"])\n",
    "X_valid = np.array(combined_data[\"X_valid\"])\n",
    "y_train = np.array(combined_data[\"y_train\"])\n",
    "y_valid = np.array(combined_data[\"y_valid\"])"
   ]
  },
  {
   "cell_type": "code",
   "execution_count": 4,
   "id": "d66b655e-30d8-4cf8-9fd6-24f424a3dc2c",
   "metadata": {},
   "outputs": [
    {
     "name": "stderr",
     "output_type": "stream",
     "text": [
      "2022-02-15 14:59:07.378324: I tensorflow/stream_executor/cuda/cuda_gpu_executor.cc:939] successful NUMA node read from SysFS had negative value (-1), but there must be at least one NUMA node, so returning NUMA node zero\n",
      "2022-02-15 14:59:07.406816: I tensorflow/stream_executor/cuda/cuda_gpu_executor.cc:939] successful NUMA node read from SysFS had negative value (-1), but there must be at least one NUMA node, so returning NUMA node zero\n",
      "2022-02-15 14:59:07.407321: I tensorflow/stream_executor/cuda/cuda_gpu_executor.cc:939] successful NUMA node read from SysFS had negative value (-1), but there must be at least one NUMA node, so returning NUMA node zero\n",
      "2022-02-15 14:59:07.408962: I tensorflow/core/platform/cpu_feature_guard.cc:151] This TensorFlow binary is optimized with oneAPI Deep Neural Network Library (oneDNN) to use the following CPU instructions in performance-critical operations:  AVX2 FMA\n",
      "To enable them in other operations, rebuild TensorFlow with the appropriate compiler flags.\n",
      "2022-02-15 14:59:07.412003: I tensorflow/stream_executor/cuda/cuda_gpu_executor.cc:939] successful NUMA node read from SysFS had negative value (-1), but there must be at least one NUMA node, so returning NUMA node zero\n",
      "2022-02-15 14:59:07.412478: I tensorflow/stream_executor/cuda/cuda_gpu_executor.cc:939] successful NUMA node read from SysFS had negative value (-1), but there must be at least one NUMA node, so returning NUMA node zero\n",
      "2022-02-15 14:59:07.412855: I tensorflow/stream_executor/cuda/cuda_gpu_executor.cc:939] successful NUMA node read from SysFS had negative value (-1), but there must be at least one NUMA node, so returning NUMA node zero\n",
      "2022-02-15 14:59:08.186555: I tensorflow/stream_executor/cuda/cuda_gpu_executor.cc:939] successful NUMA node read from SysFS had negative value (-1), but there must be at least one NUMA node, so returning NUMA node zero\n",
      "2022-02-15 14:59:08.187054: I tensorflow/stream_executor/cuda/cuda_gpu_executor.cc:939] successful NUMA node read from SysFS had negative value (-1), but there must be at least one NUMA node, so returning NUMA node zero\n",
      "2022-02-15 14:59:08.187432: I tensorflow/stream_executor/cuda/cuda_gpu_executor.cc:939] successful NUMA node read from SysFS had negative value (-1), but there must be at least one NUMA node, so returning NUMA node zero\n",
      "2022-02-15 14:59:08.187835: I tensorflow/core/common_runtime/gpu/gpu_device.cc:1525] Created device /job:localhost/replica:0/task:0/device:GPU:0 with 13793 MB memory:  -> device: 0, name: Tesla T4, pci bus id: 0000:00:05.0, compute capability: 7.5\n"
     ]
    },
    {
     "name": "stdout",
     "output_type": "stream",
     "text": [
      "Epoch 1/10\n"
     ]
    },
    {
     "name": "stderr",
     "output_type": "stream",
     "text": [
      "2022-02-15 14:59:16.754274: I tensorflow/stream_executor/cuda/cuda_dnn.cc:366] Loaded cuDNN version 8201\n",
      "2022-02-15 14:59:17.563828: I tensorflow/core/platform/default/subprocess.cc:304] Start cannot spawn child process: No such file or directory\n"
     ]
    },
    {
     "name": "stdout",
     "output_type": "stream",
     "text": [
      "41/41 [==============================] - ETA: 0s - loss: 0.2561 - accuracy: 0.9481 - dice_loss: 0.1939 - recall_1: 0.9451 - pre_1: 0.9375\n",
      "Epoch 00001: val_loss improved from inf to 13.15274, saving model to model-TV-UNet1.h5\n",
      "41/41 [==============================] - 51s 819ms/step - loss: 0.2561 - accuracy: 0.9481 - dice_loss: 0.1939 - recall_1: 0.9451 - pre_1: 0.9375 - val_loss: 13.1527 - val_accuracy: 0.1864 - val_dice_loss: 0.8318 - val_recall_1: 0.1751 - val_pre_1: 0.1643 - lr: 0.0010\n",
      "Epoch 2/10\n",
      "41/41 [==============================] - ETA: 0s - loss: 0.1380 - accuracy: 0.9615 - dice_loss: 0.1013 - recall_1: 0.9612 - pre_1: 0.9618\n",
      "Epoch 00002: val_loss improved from 13.15274 to 0.62534, saving model to model-TV-UNet1.h5\n",
      "41/41 [==============================] - 22s 549ms/step - loss: 0.1380 - accuracy: 0.9615 - dice_loss: 0.1013 - recall_1: 0.9612 - pre_1: 0.9618 - val_loss: 0.6253 - val_accuracy: 0.9592 - val_dice_loss: 0.0393 - val_recall_1: 0.9592 - val_pre_1: 0.9592 - lr: 0.0010\n",
      "Epoch 3/10\n",
      "41/41 [==============================] - ETA: 0s - loss: 0.1035 - accuracy: 0.9699 - dice_loss: 0.0733 - recall_1: 0.9696 - pre_1: 0.9700\n",
      "Epoch 00003: val_loss did not improve from 0.62534\n",
      "41/41 [==============================] - 21s 521ms/step - loss: 0.1035 - accuracy: 0.9699 - dice_loss: 0.0733 - recall_1: 0.9696 - pre_1: 0.9700 - val_loss: 0.6344 - val_accuracy: 0.9561 - val_dice_loss: 0.0549 - val_recall_1: 0.9567 - val_pre_1: 0.9553 - lr: 0.0010\n",
      "Epoch 4/10\n",
      "41/41 [==============================] - ETA: 0s - loss: 0.0870 - accuracy: 0.9746 - dice_loss: 0.0587 - recall_1: 0.9746 - pre_1: 0.9746\n",
      "Epoch 00004: val_loss did not improve from 0.62534\n",
      "41/41 [==============================] - 22s 525ms/step - loss: 0.0870 - accuracy: 0.9746 - dice_loss: 0.0587 - recall_1: 0.9746 - pre_1: 0.9746 - val_loss: 0.6273 - val_accuracy: 0.9019 - val_dice_loss: 0.1021 - val_recall_1: 0.9005 - val_pre_1: 0.9028 - lr: 0.0010\n",
      "Epoch 5/10\n",
      "41/41 [==============================] - ETA: 0s - loss: 0.0680 - accuracy: 0.9803 - dice_loss: 0.0444 - recall_1: 0.9803 - pre_1: 0.9804\n",
      "Epoch 00005: val_loss improved from 0.62534 to 0.23060, saving model to model-TV-UNet1.h5\n",
      "41/41 [==============================] - 22s 542ms/step - loss: 0.0680 - accuracy: 0.9803 - dice_loss: 0.0444 - recall_1: 0.9803 - pre_1: 0.9804 - val_loss: 0.2306 - val_accuracy: 0.9393 - val_dice_loss: 0.0977 - val_recall_1: 0.9391 - val_pre_1: 0.9392 - lr: 0.0010\n",
      "Epoch 6/10\n",
      "41/41 [==============================] - ETA: 0s - loss: 0.0576 - accuracy: 0.9822 - dice_loss: 0.0361 - recall_1: 0.9822 - pre_1: 0.9823\n",
      "Epoch 00006: val_loss improved from 0.23060 to 0.14944, saving model to model-TV-UNet1.h5\n",
      "41/41 [==============================] - 22s 542ms/step - loss: 0.0576 - accuracy: 0.9822 - dice_loss: 0.0361 - recall_1: 0.9822 - pre_1: 0.9823 - val_loss: 0.1494 - val_accuracy: 0.9677 - val_dice_loss: 0.0532 - val_recall_1: 0.9676 - val_pre_1: 0.9676 - lr: 0.0010\n",
      "Epoch 7/10\n",
      "41/41 [==============================] - ETA: 0s - loss: 0.0559 - accuracy: 0.9825 - dice_loss: 0.0343 - recall_1: 0.9823 - pre_1: 0.9826\n",
      "Epoch 00007: val_loss improved from 0.14944 to 0.10813, saving model to model-TV-UNet1.h5\n",
      "41/41 [==============================] - 23s 552ms/step - loss: 0.0559 - accuracy: 0.9825 - dice_loss: 0.0343 - recall_1: 0.9823 - pre_1: 0.9826 - val_loss: 0.1081 - val_accuracy: 0.9736 - val_dice_loss: 0.0415 - val_recall_1: 0.9735 - val_pre_1: 0.9736 - lr: 0.0010\n",
      "Epoch 8/10\n",
      "41/41 [==============================] - ETA: 0s - loss: 0.0518 - accuracy: 0.9832 - dice_loss: 0.0305 - recall_1: 0.9831 - pre_1: 0.9832\n",
      "Epoch 00008: val_loss improved from 0.10813 to 0.06873, saving model to model-TV-UNet1.h5\n",
      "41/41 [==============================] - 22s 550ms/step - loss: 0.0518 - accuracy: 0.9832 - dice_loss: 0.0305 - recall_1: 0.9831 - pre_1: 0.9832 - val_loss: 0.0687 - val_accuracy: 0.9762 - val_dice_loss: 0.0355 - val_recall_1: 0.9761 - val_pre_1: 0.9762 - lr: 0.0010\n",
      "Epoch 9/10\n",
      "41/41 [==============================] - ETA: 0s - loss: 0.0465 - accuracy: 0.9847 - dice_loss: 0.0276 - recall_1: 0.9846 - pre_1: 0.9847\n",
      "Epoch 00009: val_loss improved from 0.06873 to 0.06730, saving model to model-TV-UNet1.h5\n",
      "41/41 [==============================] - 23s 553ms/step - loss: 0.0465 - accuracy: 0.9847 - dice_loss: 0.0276 - recall_1: 0.9846 - pre_1: 0.9847 - val_loss: 0.0673 - val_accuracy: 0.9796 - val_dice_loss: 0.0263 - val_recall_1: 0.9797 - val_pre_1: 0.9796 - lr: 0.0010\n",
      "Epoch 10/10\n",
      "41/41 [==============================] - ETA: 0s - loss: 0.0431 - accuracy: 0.9851 - dice_loss: 0.0255 - recall_1: 0.9850 - pre_1: 0.9852\n",
      "Epoch 00010: val_loss improved from 0.06730 to 0.04617, saving model to model-TV-UNet1.h5\n",
      "41/41 [==============================] - 22s 549ms/step - loss: 0.0431 - accuracy: 0.9851 - dice_loss: 0.0255 - recall_1: 0.9850 - pre_1: 0.9852 - val_loss: 0.0462 - val_accuracy: 0.9837 - val_dice_loss: 0.0285 - val_recall_1: 0.9838 - val_pre_1: 0.9837 - lr: 0.0010\n"
     ]
    }
   ],
   "source": [
    "input_img = Input((im_height, im_width, 1), name='img')\n",
    "model = get_unet(input_img, n_filters=64, dropout=0.2, batchnorm=True)\n",
    "model.compile(optimizer=Adam(learning_rate=0.001), loss=[custom_loss], metrics=['accuracy', dice_loss, Recall(name='recall_1'), Precision(name='pre_1')])\n",
    "\n",
    "callbacks = [\n",
    "    EarlyStopping(patience=50, verbose=1),\n",
    "    ReduceLROnPlateau(factor=0.1, patience=5, min_lr=0.00001, verbose=1),\n",
    "    ModelCheckpoint('model-TV-UNet1.h5', verbose=1, save_best_only=True, save_weights_only=True)\n",
    "]\n",
    "\n",
    "results = model.fit(X_train, y_train, batch_size=BatcheSZE, epochs=EpoachesNo, callbacks=callbacks, validation_data=(X_valid, y_valid))"
   ]
  },
  {
   "cell_type": "code",
   "execution_count": 5,
   "id": "dce9ac48-b9be-4d11-9ce1-0b1412d213dc",
   "metadata": {},
   "outputs": [
    {
     "name": "stderr",
     "output_type": "stream",
     "text": [
      "2022-02-15 15:03:25.313412: W tensorflow/python/util/util.cc:368] Sets are not currently considered sequences, but this may change in the future, so consider avoiding using them.\n"
     ]
    },
    {
     "name": "stdout",
     "output_type": "stream",
     "text": [
      "INFO:tensorflow:Assets written to: tf_model/assets\n"
     ]
    }
   ],
   "source": [
    "## save model as ONNX\n",
    "\n",
    "if not os.path.exists('tf_model'):\n",
    "    os.makedirs('tf_model')\n",
    "\n",
    "if not os.path.exists('onnx_loaded_model'):\n",
    "    os.makedirs('onnx_loaded_model')\n",
    "\n",
    "tf.saved_model.save(model, 'tf_model')"
   ]
  },
  {
   "cell_type": "code",
   "execution_count": 6,
   "id": "5fd6ec2d-eae9-4946-9087-9376e5f75e71",
   "metadata": {},
   "outputs": [
    {
     "name": "stderr",
     "output_type": "stream",
     "text": [
      "/opt/conda/lib/python3.9/runpy.py:127: RuntimeWarning: 'tf2onnx.convert' found in sys.modules after import of package 'tf2onnx', but prior to execution of 'tf2onnx.convert'; this may result in unpredictable behaviour\n",
      "  warn(RuntimeWarning(msg))\n",
      "2022-02-15 15:03:38,193 - WARNING - '--tag' not specified for saved_model. Using --tag serve\n",
      "2022-02-15 15:03:49,006 - INFO - Signatures found in model: [serving_default].\n",
      "2022-02-15 15:03:49,006 - WARNING - '--signature_def' not specified, using first signature: serving_default\n",
      "2022-02-15 15:03:49,007 - INFO - Output names: ['conv2d_18']\n",
      "WARNING:tensorflow:From /opt/conda/lib/python3.9/site-packages/tf2onnx/tf_loader.py:706: extract_sub_graph (from tensorflow.python.framework.graph_util_impl) is deprecated and will be removed in a future version.\n",
      "Instructions for updating:\n",
      "Use `tf.compat.v1.graph_util.extract_sub_graph`\n",
      "2022-02-15 15:03:51,608 - WARNING - From /opt/conda/lib/python3.9/site-packages/tf2onnx/tf_loader.py:706: extract_sub_graph (from tensorflow.python.framework.graph_util_impl) is deprecated and will be removed in a future version.\n",
      "Instructions for updating:\n",
      "Use `tf.compat.v1.graph_util.extract_sub_graph`\n",
      "2022-02-15 15:03:53,040 - INFO - Using tensorflow=2.7.0, onnx=1.10.2, tf2onnx=1.9.3/1190aa\n",
      "2022-02-15 15:03:53,041 - INFO - Using opset <onnx, 14>\n",
      "2022-02-15 15:03:59,560 - INFO - Computed 0 values for constant folding\n",
      "2022-02-15 15:04:04,161 - INFO - Optimizing ONNX model\n",
      "2022-02-15 15:04:08,307 - INFO - After optimization: BatchNormalization -18 (18->0), Cast -4 (4->0), Concat -4 (8->4), Const -131 (178->47), Identity -13 (13->0), Reshape +1 (0->1), Shape -4 (4->0), Slice -4 (4->0), Squeeze -4 (4->0), Transpose -89 (90->1), Unsqueeze -16 (16->0)\n",
      "2022-02-15 15:04:10,048 - INFO - \n",
      "2022-02-15 15:04:10,048 - INFO - Successfully converted TensorFlow model tf_model to ONNX\n",
      "2022-02-15 15:04:10,049 - INFO - Model inputs: ['img']\n",
      "2022-02-15 15:04:10,049 - INFO - Model outputs: ['conv2d_18']\n",
      "2022-02-15 15:04:10,049 - INFO - ONNX model is saved at onnx_loaded_model/ct_seg_model.onnx\n"
     ]
    }
   ],
   "source": [
    "%%bash\n",
    "\n",
    "python -m tf2onnx.convert --saved-model tf_model --output onnx_loaded_model/ct_seg_model.onnx --opset 14"
   ]
  },
  {
   "cell_type": "code",
   "execution_count": null,
   "id": "ffc5bca0-c0a8-468c-94f3-84f66dda780b",
   "metadata": {},
   "outputs": [],
   "source": []
  },
  {
   "cell_type": "code",
   "execution_count": null,
   "id": "beaa091d-702e-406a-87e7-41cbd483d3b4",
   "metadata": {},
   "outputs": [],
   "source": []
  },
  {
   "cell_type": "code",
   "execution_count": null,
   "id": "34e48809-0fba-4377-a190-0ce4c77c600f",
   "metadata": {},
   "outputs": [],
   "source": []
  }
 ],
 "metadata": {
  "kernelspec": {
   "display_name": "Python 3 (ipykernel)",
   "language": "python",
   "name": "python3"
  },
  "language_info": {
   "codemirror_mode": {
    "name": "ipython",
    "version": 3
   },
   "file_extension": ".py",
   "mimetype": "text/x-python",
   "name": "python",
   "nbconvert_exporter": "python",
   "pygments_lexer": "ipython3",
   "version": "3.9.6"
  }
 },
 "nbformat": 4,
 "nbformat_minor": 5
}
