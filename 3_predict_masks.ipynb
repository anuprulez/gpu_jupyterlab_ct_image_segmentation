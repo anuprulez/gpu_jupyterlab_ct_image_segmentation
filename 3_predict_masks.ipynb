{
 "cells": [
  {
   "cell_type": "code",
   "execution_count": 1,
   "id": "97f650ee-b1c5-4776-84e0-637321fc1530",
   "metadata": {},
   "outputs": [],
   "source": [
    "import os\n",
    "import requests\n",
    "import numpy as np\n",
    "import matplotlib.pyplot as plt\n",
    "import tensorflow as tf\n",
    "import onnx\n",
    "from onnx_tf.backend import prepare\n",
    "import h5py\n",
    "plt.style.use(\"ggplot\")"
   ]
  },
  {
   "cell_type": "code",
   "execution_count": null,
   "id": "bb7b5ab9-0cb3-43a8-940a-b05175c95373",
   "metadata": {},
   "outputs": [],
   "source": [
    "## Load datasets\n",
    "combined_data = h5py.File(\"h5_datasets/combined_CT_datasets.h5\", \"r\")\n",
    "\n",
    "## Get train and test datasets\n",
    "label_y = np.array(combined_data[\"label_test\"])\n",
    "y = np.array(combined_data[\"y\"])\n",
    "\n",
    "# predict using ONXX model trained remotely\n",
    "\n",
    "#loaded_model = onnx.load(\"galaxy_trained_model/galaxy_trained_model_2.onnx\") #onnx.load(\"onnx_loaded_model1/ct_seg_model.onnx\")\n",
    "# https://usegalaxy.eu/api/histories/d83af45c42c55bdb/contents/11ac94870d0bb33aa573fa238dbeaacd/display\n",
    "## download data from Galaxy history\n",
    "\n",
    "#path_trained_model = \"https://usegalaxy.eu/api/histories/d83af45c42c55bdb/contents/11ac94870d0bb33aa573fa238dbeaacd/display\"\n",
    "#if not os.path.exists('galaxy_trained_model'):\n",
    "#    os.makedirs('galaxy_trained_model')\n",
    "\n",
    "# Write to an onnx file\n",
    "# Get trained model\n",
    "#r = requests.get(path_tm, allow_redirects=True)\n",
    "#open('galaxy_trained_model/galaxy_trained_model_2.onnx', 'wb').write(r.content)\n",
    "#loaded_model = onnx.load(\"galaxy_trained_model/galaxy_trained_model_2.onnx\")\n",
    "\n",
    "# predict using ONXX trained model\n",
    "loaded_model = onnx.load(\"onnx_loaded_model/ct_seg_model.onnx\")\n",
    "\n",
    "tf_loaded_model = prepare(loaded_model)\n",
    "prediction_onnx = tf_loaded_model.run(y, training=False)\n",
    "prediction_onnx = np.array(prediction_onnx).squeeze()\n",
    "\n",
    "onnx_preds_test_t1 = (prediction_onnx > 0.1).astype(np.uint8)\n",
    "onnx_preds_test_t2 = (prediction_onnx > 0.3).astype(np.uint8)"
   ]
  },
  {
   "cell_type": "code",
   "execution_count": null,
   "id": "c1ef9b46-9b20-41c4-bb45-1e89c0ba3748",
   "metadata": {},
   "outputs": [],
   "source": [
    "## Plot predicted masks\n",
    "no_pred = 5\n",
    "def plot_sample(X, y, binary_preds1, binary_preds2):\n",
    "    fig, axs = plt.subplots(no_pred, 4, figsize=(80, 80),sharex='all')\n",
    "    rand_indx = np.random.randint(1, y.shape[0], no_pred)\n",
    "    i = 0\n",
    "    for ix in rand_indx:\n",
    "        l = 1\n",
    "        axs[i,0].imshow(X[ix, ..., 0], cmap='gray')\n",
    "        axs[0,0].set_title('Original CT Images',fontweight=\"bold\", size=40)\n",
    "\n",
    "        axs[i,1].imshow(y[ix,:,:,l].squeeze(),cmap='gray')\n",
    "        axs[0,1].set_title('Ground-Truth Mask',fontweight=\"bold\", size=40)\n",
    "\n",
    "        axs[i,2].imshow(binary_preds1[ix,:,:,l].squeeze(), cmap='gray', vmin=0, vmax=1)\n",
    "        axs[0,2].set_title('Predicted Mask \\n with BCE loss',fontweight=\"bold\", size=40)\n",
    "      \n",
    "        axs[i,3].imshow(binary_preds2[ix,:,:,l].squeeze(), cmap='gray', vmin=0, vmax=1)\n",
    "        axs[0,3].set_title('Predicted Masks \\n with BCE+TV Loss',fontweight=\"bold\", size=40)\n",
    "        \n",
    "        i += 1\n",
    "      \n",
    "        plt.rcParams[\"axes.grid\"] = False\n",
    "        plt.subplots_adjust(wspace=-0.5, hspace=0.1)\n",
    "\n",
    "    plt.savefig(\"true_pred_dataset2.png\")"
   ]
  },
  {
   "cell_type": "code",
   "execution_count": null,
   "id": "1b32f394-dd72-4d73-b14a-288ebe0dc7fe",
   "metadata": {},
   "outputs": [],
   "source": [
    "plot_sample(y, label_y, onnx_preds_test_t1, onnx_preds_test_t2)"
   ]
  },
  {
   "cell_type": "code",
   "execution_count": null,
   "id": "09461450-70c7-4240-bf97-4358346d8cb8",
   "metadata": {},
   "outputs": [],
   "source": [
    "# Release GPU memory\n",
    "from numba import cuda \n",
    "cuda.select_device(0)\n",
    "cuda.close()"
   ]
  },
  {
   "cell_type": "code",
   "execution_count": 6,
   "id": "576da100-e5b0-4004-9885-58f52a24f875",
   "metadata": {},
   "outputs": [],
   "source": []
  },
  {
   "cell_type": "code",
   "execution_count": null,
   "id": "e79caa6c-3d00-4c81-8e0e-6db0a19c118e",
   "metadata": {},
   "outputs": [],
   "source": []
  }
 ],
 "metadata": {
  "kernelspec": {
   "display_name": "Python 3 (ipykernel)",
   "language": "python",
   "name": "python3"
  },
  "language_info": {
   "codemirror_mode": {
    "name": "ipython",
    "version": 3
   },
   "file_extension": ".py",
   "mimetype": "text/x-python",
   "name": "python",
   "nbconvert_exporter": "python",
   "pygments_lexer": "ipython3",
   "version": "3.9.6"
  },
  "toc-autonumbering": true,
  "toc-showcode": true,
  "toc-showmarkdowntxt": true
 },
 "nbformat": 4,
 "nbformat_minor": 5
}
